{
 "cells": [
  {
   "cell_type": "markdown",
   "metadata": {},
   "source": [
    "Python Data Science Tutorial: Analyzing the 2019 Stack Overflow Developer Survey\n",
    "\n",
    "[Data Source - Stack Overflow](https://insights.stackoverflow.com/survey)\n",
    "\n",
    "[Tutorial](https://www.youtube.com/watch?v=_P7X8tMplsw)"
   ]
  },
  {
   "cell_type": "code",
   "execution_count": 1,
   "metadata": {},
   "outputs": [],
   "source": [
    "import csv"
   ]
  },
  {
   "cell_type": "code",
   "execution_count": 14,
   "metadata": {
    "scrolled": true
   },
   "outputs": [
    {
     "name": "stdout",
     "output_type": "stream",
     "text": [
      "OrderedDict([('Respondent', '1'), ('MainBranch', 'I am a student who is learning to code'), ('Hobbyist', 'Yes'), ('OpenSourcer', 'Never'), ('OpenSource', 'The quality of OSS and closed source software is about the same'), ('Employment', 'Not employed, and not looking for work'), ('Country', 'United Kingdom'), ('Student', 'No'), ('EdLevel', 'Primary/elementary school'), ('UndergradMajor', 'NA'), ('EduOther', 'Taught yourself a new language, framework, or tool without taking a formal course'), ('OrgSize', 'NA'), ('DevType', 'NA'), ('YearsCode', '4'), ('Age1stCode', '10'), ('YearsCodePro', 'NA'), ('CareerSat', 'NA'), ('JobSat', 'NA'), ('MgrIdiot', 'NA'), ('MgrMoney', 'NA'), ('MgrWant', 'NA'), ('JobSeek', 'NA'), ('LastHireDate', 'NA'), ('LastInt', 'NA'), ('FizzBuzz', 'NA'), ('JobFactors', 'NA'), ('ResumeUpdate', 'NA'), ('CurrencySymbol', 'NA'), ('CurrencyDesc', 'NA'), ('CompTotal', 'NA'), ('CompFreq', 'NA'), ('ConvertedComp', 'NA'), ('WorkWeekHrs', 'NA'), ('WorkPlan', 'NA'), ('WorkChallenge', 'NA'), ('WorkRemote', 'NA'), ('WorkLoc', 'NA'), ('ImpSyn', 'NA'), ('CodeRev', 'NA'), ('CodeRevHrs', 'NA'), ('UnitTests', 'NA'), ('PurchaseHow', 'NA'), ('PurchaseWhat', 'NA'), ('LanguageWorkedWith', 'HTML/CSS;Java;JavaScript;Python'), ('LanguageDesireNextYear', 'C;C++;C#;Go;HTML/CSS;Java;JavaScript;Python;SQL'), ('DatabaseWorkedWith', 'SQLite'), ('DatabaseDesireNextYear', 'MySQL'), ('PlatformWorkedWith', 'MacOS;Windows'), ('PlatformDesireNextYear', 'Android;Arduino;Windows'), ('WebFrameWorkedWith', 'Django;Flask'), ('WebFrameDesireNextYear', 'Flask;jQuery'), ('MiscTechWorkedWith', 'Node.js'), ('MiscTechDesireNextYear', 'Node.js'), ('DevEnviron', 'IntelliJ;Notepad++;PyCharm'), ('OpSys', 'Windows'), ('Containers', 'I do not use containers'), ('BlockchainOrg', 'NA'), ('BlockchainIs', 'NA'), ('BetterLife', 'Yes'), ('ITperson', 'Fortunately, someone else has that title'), ('OffOn', 'Yes'), ('SocialMedia', 'Twitter'), ('Extraversion', 'Online'), ('ScreenName', 'Username'), ('SOVisit1st', '2017'), ('SOVisitFreq', 'A few times per month or weekly'), ('SOVisitTo', 'Find answers to specific questions;Learn how to do things I didn’t necessarily look for'), ('SOFindAnswer', '3-5 times per week'), ('SOTimeSaved', 'Stack Overflow was much faster'), ('SOHowMuchTime', '31-60 minutes'), ('SOAccount', 'No'), ('SOPartFreq', 'NA'), ('SOJobs', \"No, I didn't know that Stack Overflow had a job board\"), ('EntTeams', \"No, and I don't know what those are\"), ('SOComm', 'Neutral'), ('WelcomeChange', 'Just as welcome now as I felt last year'), ('SONewContent', \"Tech articles written by other developers;Industry news about technologies you're interested in;Courses on technologies you're interested in\"), ('Age', '14'), ('Gender', 'Man'), ('Trans', 'No'), ('Sexuality', 'Straight / Heterosexual'), ('Ethnicity', 'NA'), ('Dependents', 'No'), ('SurveyLength', 'Appropriate in length'), ('SurveyEase', 'Neither easy nor difficult')])\n"
     ]
    }
   ],
   "source": [
    "# .DictReader will load data as ordered dictionary\n",
    "\n",
    "with open('survey_results_public.csv') as f:\n",
    "    csv_reader = csv.DictReader(f)\n",
    "    \n",
    "# This behaves like a generator, not a list. Can't access with indexing.\n",
    "\n",
    "# Print out first survey response\n",
    "    for line in csv_reader:\n",
    "        print(line)\n",
    "        break"
   ]
  },
  {
   "cell_type": "code",
   "execution_count": 6,
   "metadata": {},
   "outputs": [
    {
     "data": {
      "text/plain": [
       "<csv.DictReader at 0x10c841f98>"
      ]
     },
     "execution_count": 6,
     "metadata": {},
     "output_type": "execute_result"
    }
   ],
   "source": [
    "csv_reader"
   ]
  },
  {
   "cell_type": "markdown",
   "metadata": {},
   "source": [
    "### Access response to Do You Code As A Hobbyist? \n",
    "\n",
    "Column is named Hobbyist."
   ]
  },
  {
   "cell_type": "code",
   "execution_count": 17,
   "metadata": {},
   "outputs": [
    {
     "name": "stdout",
     "output_type": "stream",
     "text": [
      "Yes\n"
     ]
    }
   ],
   "source": [
    "# .DictReader will load data as ordered dictionary\n",
    "\n",
    "with open('survey_results_public.csv') as f:\n",
    "    csv_reader = csv.DictReader(f)\n",
    "    \n",
    "# This behaves like a generator, not a list. Can't access with indexing.\n",
    "\n",
    "# Print out first survey response\n",
    "    for line in csv_reader:\n",
    "        print(line['Hobbyist'])\n",
    "        break"
   ]
  },
  {
   "cell_type": "markdown",
   "metadata": {},
   "source": [
    "# Analysis 1 - How many responders answered YES v NO to being a Hobbyist?"
   ]
  },
  {
   "cell_type": "markdown",
   "metadata": {},
   "source": [
    "### Solution 1"
   ]
  },
  {
   "cell_type": "code",
   "execution_count": 19,
   "metadata": {},
   "outputs": [
    {
     "name": "stdout",
     "output_type": "stream",
     "text": [
      "Yes: 71257\n",
      "No: 17626\n"
     ]
    }
   ],
   "source": [
    "with open('survey_results_public.csv') as f:\n",
    "    csv_reader = csv.DictReader(f)\n",
    "    \n",
    "    yes_count = 0\n",
    "    no_count = 0\n",
    "    \n",
    "    for line in csv_reader:\n",
    "        if line[\"Hobbyist\"] == 'Yes':\n",
    "           yes_count += 1\n",
    "        elif line['Hobbyist'] == 'No':\n",
    "            no_count += 1\n",
    "\n",
    "print(f'Yes: {yes_count}')\n",
    "print(f'No: {no_count}')"
   ]
  },
  {
   "cell_type": "markdown",
   "metadata": {},
   "source": [
    "### Solution 1, continue - Change to Percentages"
   ]
  },
  {
   "cell_type": "code",
   "execution_count": 23,
   "metadata": {},
   "outputs": [
    {
     "name": "stdout",
     "output_type": "stream",
     "text": [
      "Yes: 80.17%\n",
      "No: 19.83%\n"
     ]
    }
   ],
   "source": [
    "with open('survey_results_public.csv') as f:\n",
    "    csv_reader = csv.DictReader(f)\n",
    "    \n",
    "    yes_count = 0\n",
    "    no_count = 0\n",
    "    \n",
    "    for line in csv_reader:\n",
    "        if line[\"Hobbyist\"] == 'Yes':\n",
    "           yes_count += 1\n",
    "        elif line['Hobbyist'] == 'No':\n",
    "            no_count += 1\n",
    "\n",
    "total_count = yes_count + no_count\n",
    "\n",
    "yes_pct = (yes_count / total_count) * 100\n",
    "yes_pct = round(yes_pct, 2)\n",
    "\n",
    "no_pct = (no_count / total_count) * 100\n",
    "no_pct = round(no_pct, 2)\n",
    "\n",
    "print(f'Yes: {yes_pct}%')\n",
    "print(f'No: {no_pct}%')"
   ]
  },
  {
   "cell_type": "markdown",
   "metadata": {},
   "source": [
    "### Solution 2 - Use a Dictionary"
   ]
  },
  {
   "cell_type": "code",
   "execution_count": 27,
   "metadata": {},
   "outputs": [
    {
     "name": "stdout",
     "output_type": "stream",
     "text": [
      "Yes: 80.17%\n",
      "No: 19.83%\n"
     ]
    }
   ],
   "source": [
    "with open('survey_results_public.csv') as f:\n",
    "    csv_reader = csv.DictReader(f)\n",
    "    \n",
    "    counts = {\n",
    "        'Yes': 0,\n",
    "        'No': 0\n",
    "    }\n",
    "    \n",
    "    for line in csv_reader:\n",
    "        counts[line['Hobbyist']] += 1\n",
    "       \n",
    "\n",
    "total = counts['Yes'] + counts['No']\n",
    "\n",
    "yes_pct = (counts['Yes'] / total_count) * 100\n",
    "yes_pct = round(yes_pct, 2)\n",
    "\n",
    "no_pct = (counts['No'] / total_count) * 100\n",
    "no_pct = round(no_pct, 2)\n",
    "\n",
    "print(f'Yes: {yes_pct}%')\n",
    "print(f'No: {no_pct}%')"
   ]
  },
  {
   "cell_type": "markdown",
   "metadata": {},
   "source": [
    "### Solution 3 - Use a Default Dictionary so you won't need to initialize a dictionary yourself. \n",
    "\n",
    "No more counts = {}"
   ]
  },
  {
   "cell_type": "code",
   "execution_count": 28,
   "metadata": {},
   "outputs": [
    {
     "name": "stdout",
     "output_type": "stream",
     "text": [
      "Yes: 80.17%\n",
      "No: 19.83%\n"
     ]
    }
   ],
   "source": [
    "import csv\n",
    "from collections import defaultdict\n",
    "\n",
    "with open('survey_results_public.csv') as f:\n",
    "    csv_reader = csv.DictReader(f)\n",
    "    \n",
    "    # Intializes with Integer as Values\n",
    "    counts = defaultdict(int)\n",
    "    \n",
    "    for line in csv_reader:\n",
    "        counts[line['Hobbyist']] += 1\n",
    "       \n",
    "\n",
    "total = counts['Yes'] + counts['No']\n",
    "\n",
    "yes_pct = (counts['Yes'] / total_count) * 100\n",
    "yes_pct = round(yes_pct, 2)\n",
    "\n",
    "no_pct = (counts['No'] / total_count) * 100\n",
    "no_pct = round(no_pct, 2)\n",
    "\n",
    "print(f'Yes: {yes_pct}%')\n",
    "print(f'No: {no_pct}%')"
   ]
  },
  {
   "cell_type": "markdown",
   "metadata": {},
   "source": [
    "### Solution 4 - Use a Counter module\n",
    "\n",
    "Counter module allows many methods, like display Top 5 values"
   ]
  },
  {
   "cell_type": "code",
   "execution_count": 29,
   "metadata": {},
   "outputs": [
    {
     "name": "stdout",
     "output_type": "stream",
     "text": [
      "Yes: 80.17%\n",
      "No: 19.83%\n"
     ]
    }
   ],
   "source": [
    "import csv\n",
    "from collections import defaultdict, Counter\n",
    "\n",
    "with open('survey_results_public.csv') as f:\n",
    "    csv_reader = csv.DictReader(f)\n",
    "    \n",
    "    # Intializes with Integer as Values\n",
    "    counts = Counter()\n",
    "    \n",
    "    for line in csv_reader:\n",
    "        counts[line['Hobbyist']] += 1\n",
    "       \n",
    "\n",
    "total = counts['Yes'] + counts['No']\n",
    "\n",
    "yes_pct = (counts['Yes'] / total_count) * 100\n",
    "yes_pct = round(yes_pct, 2)\n",
    "\n",
    "no_pct = (counts['No'] / total_count) * 100\n",
    "no_pct = round(no_pct, 2)\n",
    "\n",
    "print(f'Yes: {yes_pct}%')\n",
    "print(f'No: {no_pct}%')"
   ]
  },
  {
   "cell_type": "markdown",
   "metadata": {},
   "source": [
    "# Analysis #2 - Which language do you use?\n",
    "\n",
    "Column Used - LanguageWorkedWith"
   ]
  },
  {
   "cell_type": "code",
   "execution_count": 35,
   "metadata": {},
   "outputs": [
    {
     "name": "stdout",
     "output_type": "stream",
     "text": [
      "HTML/CSS;Java;JavaScript;Python\n"
     ]
    }
   ],
   "source": [
    "import csv\n",
    "from collections import defaultdict, Counter\n",
    "\n",
    "with open('survey_results_public.csv') as f:\n",
    "    csv_reader = csv.DictReader(f)\n",
    "    \n",
    "    # Intializes with Integer as Values\n",
    "    language_counter = Counter()\n",
    "    \n",
    "    for line in csv_reader:\n",
    "        print(line['LanguageWorkedWith'])\n",
    "        break"
   ]
  },
  {
   "cell_type": "markdown",
   "metadata": {},
   "source": [
    "**Split the output by Semicolon**"
   ]
  },
  {
   "cell_type": "code",
   "execution_count": 37,
   "metadata": {},
   "outputs": [
    {
     "name": "stdout",
     "output_type": "stream",
     "text": [
      "['HTML/CSS', 'Java', 'JavaScript', 'Python']\n"
     ]
    }
   ],
   "source": [
    "import csv\n",
    "from collections import defaultdict, Counter\n",
    "\n",
    "with open('survey_results_public.csv') as f:\n",
    "    csv_reader = csv.DictReader(f)\n",
    "    \n",
    "    language_counter = Counter()\n",
    "    \n",
    "    for line in csv_reader:\n",
    "        languages = line['LanguageWorkedWith'].split(';')\n",
    "        print(languages)\n",
    "        break"
   ]
  },
  {
   "cell_type": "code",
   "execution_count": 45,
   "metadata": {},
   "outputs": [
    {
     "name": "stdout",
     "output_type": "stream",
     "text": [
      "Counter({'HTML/CSS': 1, 'Java': 1, 'JavaScript': 1, 'Python': 1})\n"
     ]
    }
   ],
   "source": [
    "import csv\n",
    "from collections import defaultdict, Counter\n",
    "\n",
    "with open('survey_results_public.csv') as f:\n",
    "    csv_reader = csv.DictReader(f)\n",
    "    \n",
    "    language_counter = Counter()\n",
    "    \n",
    "    for line in csv_reader:\n",
    "        languages = line['LanguageWorkedWith'].split(';')\n",
    "        \n",
    "        for language in languages: \n",
    "            language_counter[language] += 1\n",
    "        \n",
    "        print(language_counter)\n",
    "        break"
   ]
  },
  {
   "cell_type": "markdown",
   "metadata": {},
   "source": [
    "**Use Counter method to update count**"
   ]
  },
  {
   "cell_type": "code",
   "execution_count": 49,
   "metadata": {},
   "outputs": [
    {
     "name": "stdout",
     "output_type": "stream",
     "text": [
      "Counter({'HTML/CSS': 1, 'Java': 1, 'JavaScript': 1, 'Python': 1})\n"
     ]
    }
   ],
   "source": [
    "import csv\n",
    "from collections import defaultdict, Counter\n",
    "\n",
    "with open('survey_results_public.csv') as f:\n",
    "    csv_reader = csv.DictReader(f)\n",
    "    \n",
    "    language_counter = Counter()\n",
    "    \n",
    "    for line in csv_reader:\n",
    "        languages = line['LanguageWorkedWith'].split(';')\n",
    "        \n",
    "        language_counter.update(languages)\n",
    "        \n",
    "        print(language_counter)\n",
    "        break"
   ]
  },
  {
   "cell_type": "code",
   "execution_count": 50,
   "metadata": {},
   "outputs": [
    {
     "name": "stdout",
     "output_type": "stream",
     "text": [
      "Counter({'JavaScript': 59219, 'HTML/CSS': 55466, 'SQL': 47544, 'Python': 36443, 'Java': 35917, 'Bash/Shell/PowerShell': 31991, 'C#': 27097, 'PHP': 23030, 'C++': 20524, 'TypeScript': 18523, 'C': 18017, 'Other(s):': 7920, 'Ruby': 7331, 'Go': 7201, 'Assembly': 5833, 'Swift': 5744, 'Kotlin': 5620, 'R': 5048, 'VBA': 4781, 'Objective-C': 4191, 'Scala': 3309, 'Rust': 2794, 'Dart': 1683, 'NA': 1314, 'Elixir': 1260, 'Clojure': 1254, 'WebAssembly': 1015, 'F#': 973, 'Erlang': 777})\n"
     ]
    }
   ],
   "source": [
    "import csv\n",
    "from collections import defaultdict, Counter\n",
    "\n",
    "with open('survey_results_public.csv') as f:\n",
    "    csv_reader = csv.DictReader(f)\n",
    "    \n",
    "    language_counter = Counter()\n",
    "    \n",
    "    for line in csv_reader:\n",
    "        languages = line['LanguageWorkedWith'].split(';')\n",
    "        \n",
    "        language_counter.update(languages)\n",
    "        \n",
    "print(language_counter)\n",
    "        "
   ]
  },
  {
   "cell_type": "code",
   "execution_count": 51,
   "metadata": {},
   "outputs": [
    {
     "name": "stdout",
     "output_type": "stream",
     "text": [
      "Counter({'JavaScript': 59219,\n",
      "         'HTML/CSS': 55466,\n",
      "         'SQL': 47544,\n",
      "         'Python': 36443,\n",
      "         'Java': 35917,\n",
      "         'Bash/Shell/PowerShell': 31991,\n",
      "         'C#': 27097,\n",
      "         'PHP': 23030,\n",
      "         'C++': 20524,\n",
      "         'TypeScript': 18523,\n",
      "         'C': 18017,\n",
      "         'Other(s):': 7920,\n",
      "         'Ruby': 7331,\n",
      "         'Go': 7201,\n",
      "         'Assembly': 5833,\n",
      "         'Swift': 5744,\n",
      "         'Kotlin': 5620,\n",
      "         'R': 5048,\n",
      "         'VBA': 4781,\n",
      "         'Objective-C': 4191,\n",
      "         'Scala': 3309,\n",
      "         'Rust': 2794,\n",
      "         'Dart': 1683,\n",
      "         'NA': 1314,\n",
      "         'Elixir': 1260,\n",
      "         'Clojure': 1254,\n",
      "         'WebAssembly': 1015,\n",
      "         'F#': 973,\n",
      "         'Erlang': 777})\n"
     ]
    }
   ],
   "source": [
    "import csv\n",
    "from collections import defaultdict, Counter\n",
    "import pprint\n",
    "\n",
    "with open('survey_results_public.csv') as f:\n",
    "    csv_reader = csv.DictReader(f)\n",
    "    \n",
    "    language_counter = Counter()\n",
    "    \n",
    "    for line in csv_reader:\n",
    "        languages = line['LanguageWorkedWith'].split(';')\n",
    "        \n",
    "        language_counter.update(languages)\n",
    "        \n",
    "pprint.pprint(language_counter)       "
   ]
  },
  {
   "cell_type": "markdown",
   "metadata": {},
   "source": [
    "**Print Top 10 Languages using Counter**"
   ]
  },
  {
   "cell_type": "code",
   "execution_count": 53,
   "metadata": {},
   "outputs": [
    {
     "name": "stdout",
     "output_type": "stream",
     "text": [
      "[('JavaScript', 59219),\n",
      " ('HTML/CSS', 55466),\n",
      " ('SQL', 47544),\n",
      " ('Python', 36443),\n",
      " ('Java', 35917),\n",
      " ('Bash/Shell/PowerShell', 31991),\n",
      " ('C#', 27097),\n",
      " ('PHP', 23030),\n",
      " ('C++', 20524),\n",
      " ('TypeScript', 18523)]\n"
     ]
    }
   ],
   "source": [
    "import csv\n",
    "from collections import defaultdict, Counter\n",
    "import pprint\n",
    "\n",
    "with open('survey_results_public.csv') as f:\n",
    "    csv_reader = csv.DictReader(f)\n",
    "    \n",
    "    language_counter = Counter()\n",
    "    \n",
    "    for line in csv_reader:\n",
    "        languages = line['LanguageWorkedWith'].split(';')\n",
    "        \n",
    "        language_counter.update(languages)\n",
    "        \n",
    "pprint.pprint(language_counter.most_common(10))       "
   ]
  },
  {
   "cell_type": "markdown",
   "metadata": {},
   "source": [
    "**Print Percentages of Language Used**"
   ]
  },
  {
   "cell_type": "code",
   "execution_count": 54,
   "metadata": {},
   "outputs": [
    {
     "name": "stdout",
     "output_type": "stream",
     "text": [
      "JavaScript: 66.63%\n",
      "HTML/CSS: 62.4%\n",
      "SQL: 53.49%\n",
      "Python: 41.0%\n",
      "Java: 40.41%\n"
     ]
    }
   ],
   "source": [
    "import csv\n",
    "from collections import defaultdict, Counter\n",
    "import pprint\n",
    "\n",
    "with open('survey_results_public.csv') as f:\n",
    "    csv_reader = csv.DictReader(f)\n",
    "    total = 0\n",
    "    \n",
    "    language_counter = Counter()\n",
    "    \n",
    "    for line in csv_reader:\n",
    "        languages = line['LanguageWorkedWith'].split(';')\n",
    "        \n",
    "        language_counter.update(languages)\n",
    "        \n",
    "        total += 1\n",
    "        \n",
    "for language, value in language_counter.most_common(5):\n",
    "    lang_pct = (value / total_count) * 100\n",
    "    lang_pct = round(lang_pct, 2)\n",
    "    \n",
    "    print(f'{language}: {lang_pct}%')"
   ]
  },
  {
   "cell_type": "markdown",
   "metadata": {},
   "source": [
    "# Analysis #3 - Breakdown a list with Roles and Lanaguages Used"
   ]
  },
  {
   "cell_type": "code",
   "execution_count": 60,
   "metadata": {},
   "outputs": [
    {
     "name": "stdout",
     "output_type": "stream",
     "text": [
      "NA\n",
      "Developer, desktop or enterprise applications\n",
      "Developer, front-end\n",
      "Designer\n",
      "Developer, back-end\n",
      "Developer, full-stack\n",
      "Academic researcher\n",
      "Developer, mobile\n",
      "Data or business analyst\n",
      "Data scientist or machine learning specialist\n",
      "Database administrator\n",
      "Engineer, data\n",
      "Engineer, site reliability\n",
      "Developer, QA or test\n",
      "DevOps specialist\n",
      "Developer, game or graphics\n",
      "Educator\n",
      "Student\n",
      "Engineering manager\n",
      "Senior executive/VP\n",
      "System administrator\n",
      "Developer, embedded applications or devices\n",
      "Product manager\n",
      "Scientist\n",
      "Marketing or sales professional\n"
     ]
    }
   ],
   "source": [
    "import csv\n",
    "from collections import defaultdict, Counter\n",
    "import pprint\n",
    "\n",
    "with open('survey_results_public.csv') as f:\n",
    "    csv_reader = csv.DictReader(f)\n",
    "   \n",
    "    dev_type_info = {}\n",
    "    \n",
    "    for line in csv_reader:\n",
    "        dev_types = line['DevType'].split(';')\n",
    "        \n",
    "        for types in dev_types:\n",
    "            dev_type_info[types] = {}\n",
    "\n",
    "for key in dev_type_info:\n",
    "    print(key)"
   ]
  },
  {
   "cell_type": "markdown",
   "metadata": {},
   "source": [
    "[Youtube - Lines 15-18](https://youtu.be/_P7X8tMplsw?t=2479)"
   ]
  },
  {
   "cell_type": "code",
   "execution_count": 62,
   "metadata": {},
   "outputs": [
    {
     "name": "stdout",
     "output_type": "stream",
     "text": [
      "NA\n",
      "\tHTML/CSS: 54.9%\n",
      "\tPython: 51.09%\n",
      "\tJavaScript: 50.58%\n",
      "\tJava: 42.71%\n",
      "\tC++: 35.02%\n",
      "Developer, desktop or enterprise applications\n",
      "\tJavaScript: 67.84%\n",
      "\tHTML/CSS: 64.55%\n",
      "\tSQL: 63.56%\n",
      "\tC#: 53.69%\n",
      "\tJava: 44.69%\n",
      "Developer, front-end\n",
      "\tJavaScript: 87.72%\n",
      "\tHTML/CSS: 83.62%\n",
      "\tSQL: 58.65%\n",
      "\tJava: 37.6%\n",
      "\tPHP: 35.94%\n",
      "Designer\n",
      "\tHTML/CSS: 78.88%\n",
      "\tJavaScript: 78.33%\n",
      "\tSQL: 60.18%\n",
      "\tPHP: 40.23%\n",
      "\tJava: 39.44%\n",
      "Developer, back-end\n",
      "\tJavaScript: 72.23%\n",
      "\tHTML/CSS: 65.42%\n",
      "\tSQL: 64.01%\n",
      "\tJava: 44.03%\n",
      "\tPython: 40.67%\n",
      "Developer, full-stack\n",
      "\tJavaScript: 86.15%\n",
      "\tHTML/CSS: 78.94%\n",
      "\tSQL: 65.54%\n",
      "\tJava: 40.74%\n",
      "\tBash/Shell/PowerShell: 37.91%\n",
      "Academic researcher\n",
      "\tPython: 61.06%\n",
      "\tHTML/CSS: 55.87%\n",
      "\tJavaScript: 54.25%\n",
      "\tSQL: 47.55%\n",
      "\tJava: 42.26%\n",
      "Developer, mobile\n",
      "\tJavaScript: 67.72%\n",
      "\tHTML/CSS: 62.46%\n",
      "\tJava: 57.21%\n",
      "\tSQL: 51.27%\n",
      "\tC#: 34.34%\n",
      "Data or business analyst\n",
      "\tSQL: 73.88%\n",
      "\tHTML/CSS: 62.11%\n",
      "\tJavaScript: 61.33%\n",
      "\tPython: 51.86%\n",
      "\tBash/Shell/PowerShell: 38.43%\n",
      "Data scientist or machine learning specialist\n",
      "\tPython: 79.33%\n",
      "\tSQL: 58.44%\n",
      "\tJavaScript: 51.38%\n",
      "\tHTML/CSS: 50.43%\n",
      "\tBash/Shell/PowerShell: 44.49%\n",
      "Database administrator\n",
      "\tSQL: 81.7%\n",
      "\tJavaScript: 78.11%\n",
      "\tHTML/CSS: 76.19%\n",
      "\tBash/Shell/PowerShell: 45.2%\n",
      "\tPHP: 44.16%\n",
      "Engineer, data\n",
      "\tSQL: 66.75%\n",
      "\tPython: 64.31%\n",
      "\tJavaScript: 60.13%\n",
      "\tHTML/CSS: 56.47%\n",
      "\tBash/Shell/PowerShell: 48.55%\n",
      "Engineer, site reliability\n",
      "\tJavaScript: 69.43%\n",
      "\tBash/Shell/PowerShell: 64.05%\n",
      "\tHTML/CSS: 62.79%\n",
      "\tSQL: 61.37%\n",
      "\tPython: 59.23%\n",
      "Developer, QA or test\n",
      "\tJavaScript: 73.38%\n",
      "\tHTML/CSS: 70.31%\n",
      "\tSQL: 64.81%\n",
      "\tBash/Shell/PowerShell: 45.73%\n",
      "\tJava: 45.23%\n",
      "DevOps specialist\n",
      "\tJavaScript: 73.67%\n",
      "\tHTML/CSS: 66.66%\n",
      "\tSQL: 64.56%\n",
      "\tBash/Shell/PowerShell: 63.98%\n",
      "\tPython: 52.44%\n",
      "Developer, game or graphics\n",
      "\tJavaScript: 69.02%\n",
      "\tHTML/CSS: 66.37%\n",
      "\tC#: 54.31%\n",
      "\tSQL: 48.91%\n",
      "\tC++: 47.85%\n",
      "Educator\n",
      "\tJavaScript: 70.15%\n",
      "\tHTML/CSS: 70.15%\n",
      "\tSQL: 56.92%\n",
      "\tPython: 47.02%\n",
      "\tJava: 44.26%\n",
      "Student\n",
      "\tHTML/CSS: 68.13%\n",
      "\tJavaScript: 63.53%\n",
      "\tJava: 54.37%\n",
      "\tPython: 54.37%\n",
      "\tSQL: 51.83%\n",
      "Engineering manager\n",
      "\tJavaScript: 72.35%\n",
      "\tHTML/CSS: 65.02%\n",
      "\tSQL: 60.4%\n",
      "\tBash/Shell/PowerShell: 49.1%\n",
      "\tPython: 46.86%\n",
      "Senior executive/VP\n",
      "\tJavaScript: 75.94%\n",
      "\tHTML/CSS: 71.81%\n",
      "\tSQL: 64.12%\n",
      "\tBash/Shell/PowerShell: 46.8%\n",
      "\tPython: 46.37%\n",
      "System administrator\n",
      "\tJavaScript: 73.45%\n",
      "\tHTML/CSS: 72.57%\n",
      "\tSQL: 67.94%\n",
      "\tBash/Shell/PowerShell: 58.44%\n",
      "\tPython: 51.36%\n",
      "Developer, embedded applications or devices\n",
      "\tJavaScript: 60.89%\n",
      "\tHTML/CSS: 57.75%\n",
      "\tC++: 51.08%\n",
      "\tSQL: 50.97%\n",
      "\tPython: 50.95%\n",
      "Product manager\n",
      "\tJavaScript: 75.0%\n",
      "\tHTML/CSS: 71.92%\n",
      "\tSQL: 63.42%\n",
      "\tPython: 39.63%\n",
      "\tBash/Shell/PowerShell: 38.96%\n",
      "Scientist\n",
      "\tPython: 69.48%\n",
      "\tHTML/CSS: 51.04%\n",
      "\tJavaScript: 48.77%\n",
      "\tBash/Shell/PowerShell: 47.83%\n",
      "\tSQL: 44.21%\n",
      "Marketing or sales professional\n",
      "\tHTML/CSS: 76.82%\n",
      "\tJavaScript: 71.79%\n",
      "\tSQL: 58.97%\n",
      "\tPHP: 44.21%\n",
      "\tPython: 38.26%\n"
     ]
    }
   ],
   "source": [
    "import csv\n",
    "from collections import defaultdict, Counter\n",
    "import pprint\n",
    "\n",
    "with open('survey_results_public.csv') as f:\n",
    "    csv_reader = csv.DictReader(f)\n",
    "   \n",
    "    dev_type_info = {}\n",
    "    \n",
    "    for line in csv_reader:\n",
    "        dev_types = line['DevType'].split(';')\n",
    "        \n",
    "        # A little unclear on this portion.\n",
    "        for types in dev_types:\n",
    "            dev_type_info.setdefault(types, {\n",
    "                'total': 0,\n",
    "                'language_counter': Counter()\n",
    "            })\n",
    "            \n",
    "            languages = line['LanguageWorkedWith'].split(';')\n",
    "            dev_type_info[types]['language_counter'].update(languages)\n",
    "            dev_type_info[types]['total'] += 1\n",
    "\n",
    "for types, info in dev_type_info.items():\n",
    "    print(types)\n",
    "    \n",
    "    for language, value in info['language_counter'].most_common(5):\n",
    "        lang_pct = (value / info['total']) * 100\n",
    "        lang_pct = round(lang_pct, 2)\n",
    "\n",
    "        print(f'\\t{language}: {lang_pct}%')"
   ]
  },
  {
   "cell_type": "code",
   "execution_count": null,
   "metadata": {},
   "outputs": [],
   "source": []
  }
 ],
 "metadata": {
  "kernelspec": {
   "display_name": "Python 3",
   "language": "python",
   "name": "python3"
  },
  "language_info": {
   "codemirror_mode": {
    "name": "ipython",
    "version": 3
   },
   "file_extension": ".py",
   "mimetype": "text/x-python",
   "name": "python",
   "nbconvert_exporter": "python",
   "pygments_lexer": "ipython3",
   "version": "3.7.3"
  }
 },
 "nbformat": 4,
 "nbformat_minor": 2
}
